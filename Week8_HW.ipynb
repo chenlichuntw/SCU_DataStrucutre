{
 "cells": [
  {
   "cell_type": "markdown",
   "metadata": {},
   "source": [
    "# Week8 Homework"
   ]
  },
  {
   "cell_type": "markdown",
   "metadata": {},
   "source": [
    "# Set Homework\n",
    "\n",
    "某一班有五十個人，編號是0到49，修課狀況如下:  \n",
    "編號5到25的同學有修數學課  \n",
    "編號15到35的有修電腦課  \n",
    "編號25到45的有修外語課  \n",
    "請寫一個程式，設定集合s,s1,s2,s3儲存全班同學編號、修數學同學編號、修電腦同學編號、修外語同學編號，回答以下問題:  \n",
    "## 1. 一門課都沒修的同學編號為何?"
   ]
  },
  {
   "cell_type": "code",
   "execution_count": null,
   "metadata": {},
   "outputs": [],
   "source": [
    "s = set(range(0,50))\n",
    "s1 = set(range(5,26))\n",
    "s2 = set(range(15,36))\n",
    "s3 = set(range(25,46))\n",
    "ans1 = s - s1- s2 -s3 #全班同學編號減去有修課同學編號\n",
    "print(ans1)"
   ]
  },
  {
   "cell_type": "markdown",
   "metadata": {},
   "source": [
    "## 2. 只修一門課的同學編號為何?"
   ]
  },
  {
   "cell_type": "code",
   "execution_count": null,
   "metadata": {},
   "outputs": [],
   "source": [
    "# 5-14,36-45\n",
    "ans2 = (s1 - s2) ^ (s3 - s2)\n",
    "print(ans2)"
   ]
  },
  {
   "cell_type": "markdown",
   "metadata": {},
   "source": [
    "## 3. 只修數學、電腦，但沒有修外語課的同學編號為何?"
   ]
  },
  {
   "cell_type": "code",
   "execution_count": null,
   "metadata": {},
   "outputs": [],
   "source": [
    "# 15-24\n",
    "ans3 = (s1 & s2) - s3\n",
    "print(ans3)"
   ]
  },
  {
   "cell_type": "markdown",
   "metadata": {},
   "source": [
    "## 4. 只修兩門課的同學編號為何?"
   ]
  },
  {
   "cell_type": "code",
   "execution_count": null,
   "metadata": {},
   "outputs": [],
   "source": [
    "# 15-24,26-35\n",
    "ans4 = (s1 & s2 - s3) ^ (s3 & s2 - s1)\n",
    "print(ans4)"
   ]
  },
  {
   "cell_type": "markdown",
   "metadata": {},
   "source": [
    "## 5. 三門課都修的同學編號為何?"
   ]
  },
  {
   "cell_type": "code",
   "execution_count": null,
   "metadata": {},
   "outputs": [],
   "source": [
    "# 25\n",
    "ans5 = s1 & s2 & s3\n",
    "print(ans5)"
   ]
  },
  {
   "cell_type": "markdown",
   "metadata": {},
   "source": [
    "# File I/O Homework"
   ]
  },
  {
   "cell_type": "markdown",
   "metadata": {},
   "source": [
    "## 請寫程式計算\"摩訶般若波羅蜜多心經\"中有多少\"無\"?\n",
    "1. 使用所附的heart.txt檔案，將該檔案讀入您的程式，計算有\n",
    "多少個\"無\"字?將統計的字數列印在螢幕上。\n",
    "2. 使用所附的heart.txt檔案，將該檔案讀入您的程式，將每一 列的無的發生次數寫在一個list上，同時將文字寫在另一 個heart.out的檔案上。在heart.out的最後兩行將此list列 印出來(倒數第二列)，並列印出總共有多少個無字(最後一 列)。也就是說，heart.out除了copy檔案heart.txt外，還加 入了最後兩行:\n",
    "[0, 0, 0, 0, 0, 0, 2, 2, 2, 6, 4, 1, 1, 0, 0, 1, 1, 0, 0]   \n",
    "20"
   ]
  },
  {
   "cell_type": "code",
   "execution_count": null,
   "metadata": {},
   "outputs": [],
   "source": [
    "import string\n",
    "INF = 'heart.txt'\n",
    "OUTF = 'heartout.txt'\n",
    "\n",
    "    \n",
    "def main() :\n",
    "    infile = open(INF,'r')\n",
    "    outfile = open(OUTF,'w')\n",
    "    a = []\n",
    "    c = 0\n",
    "    lines = infile.readline()\n",
    "    while lines != '' :\n",
    "        outfile.write(lines)\n",
    "        b = 0\n",
    "        for word in lines :\n",
    "            if word == '無' :\n",
    "                b += 1\n",
    "                c +=1\n",
    "            else :\n",
    "                b = b\n",
    "        a.append(b)\n",
    "        lines = infile.readline()\n",
    "    print(a)\n",
    "    print(c)\n",
    "    outfile.write(str(a))\n",
    "    outfile.write('\\n')\n",
    "    outfile.write(str(c))\n",
    "    print('done')     \n",
    "    infile.close()\n",
    "    outfile.close()\n",
    "    \n",
    "main()\n"
   ]
  },
  {
   "cell_type": "code",
   "execution_count": null,
   "metadata": {},
   "outputs": [],
   "source": []
  }
 ],
 "metadata": {
  "kernelspec": {
   "display_name": "Python 3",
   "language": "python",
   "name": "python3"
  },
  "language_info": {
   "codemirror_mode": {
    "name": "ipython",
    "version": 3
   },
   "file_extension": ".py",
   "mimetype": "text/x-python",
   "name": "python",
   "nbconvert_exporter": "python",
   "pygments_lexer": "ipython3",
   "version": "3.8.3"
  }
 },
 "nbformat": 4,
 "nbformat_minor": 4
}
