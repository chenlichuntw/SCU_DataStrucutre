{
 "cells": [
  {
   "cell_type": "markdown",
   "metadata": {},
   "source": [
    "# 作業三"
   ]
  },
  {
   "cell_type": "markdown",
   "metadata": {},
   "source": [
    "## 1.\t請說明stack與queue兩者間的差異 (10%)。"
   ]
  },
  {
   "cell_type": "markdown",
   "metadata": {},
   "source": [
    "stack：堆疊，資料具有先進後出，後進先出的性質，加入(push)與取出(pop)為同一端；實例：疊盤子。  \n",
    "queue：佇列，資料具有先進先出的性質，從後端加入(push)並從前端取出(pop)；實例：排隊買票。"
   ]
  },
  {
   "cell_type": "markdown",
   "metadata": {},
   "source": [
    "## 2. 請說明primitive data structure與non-primitive data structure兩者間的差異，並請分別為primitive與non-primitive舉例一個資料型態(10%)。"
   ]
  },
  {
   "cell_type": "markdown",
   "metadata": {},
   "source": [
    "primitive data structure：原始資料結構，機器指令直接操作的資料結構，不同資料型態可以互相轉換，在不同計算機會有不同表示方式；例如：整數。   \n",
    "non-primitive data structure：非原始資料結構，由原始資料組成的資料型態，著重在相同或不同資料群組間的關係；例如：串列。  "
   ]
  },
  {
   "cell_type": "markdown",
   "metadata": {},
   "source": [
    "## 3. 請撰寫三個小程式，利用time來計算出當(1)n=100000 (2)n=10000000時，(1的平方+2的平方+3的平方+......+n的平方)所需要花費的時間，請將程式碼與執行結果貼在下方。(20%)"
   ]
  },
  {
   "cell_type": "code",
   "execution_count": 1,
   "metadata": {},
   "outputs": [
    {
     "name": "stdout",
     "output_type": "stream",
     "text": [
      "總共花了0.054064035415649414秒\n",
      "總共花了3.3991689682006836秒\n"
     ]
    }
   ],
   "source": [
    "def timer (n) :\n",
    "    import time\n",
    "    start = time.time()\n",
    "    i = 0 \n",
    "    for j in range (1,n+1) :\n",
    "        i += j**2 \n",
    "    end = time.time()\n",
    "    print('總共花了', end - start, '秒', sep='')\n",
    "    \n",
    "def ans1() :\n",
    "    timer(100000)\n",
    "    \n",
    "def ans2() :\n",
    "    timer(10000000)\n",
    "\n",
    "ans1()\n",
    "ans2()"
   ]
  },
  {
   "cell_type": "markdown",
   "metadata": {},
   "source": [
    "## 4. 寫出下列指令所產生出的結果(20%)"
   ]
  },
  {
   "cell_type": "code",
   "execution_count": null,
   "metadata": {},
   "outputs": [],
   "source": [
    "L = [1,2,3,5,4,2,1]\n",
    "print(2 in L)"
   ]
  },
  {
   "cell_type": "code",
   "execution_count": null,
   "metadata": {},
   "outputs": [],
   "source": [
    "s = \"tree\"\n",
    "print('Tree' in s)"
   ]
  },
  {
   "cell_type": "code",
   "execution_count": null,
   "metadata": {},
   "outputs": [],
   "source": [
    "L = [1,[2,3],5,4,2,1]\n",
    "print([2] in L)"
   ]
  },
  {
   "cell_type": "code",
   "execution_count": null,
   "metadata": {},
   "outputs": [],
   "source": [
    "s = 'hello'\n",
    "print('eo' in s)"
   ]
  },
  {
   "cell_type": "markdown",
   "metadata": {},
   "source": [
    "## 5. 請按照此class diagram(點選連結)，撰寫出相對應的程式碼並將程式碼貼在下方(accountBalance為帳戶餘額，getAccountBalance為取得帳戶餘額，此function需要同學回傳帳戶餘額，depositMoney是存入金錢，此function需要同學在帳戶餘額中加上存入金額，takeoutMoney為取出金錢，此function需要同學在帳戶餘額中減掉取出金額) (20%)"
   ]
  },
  {
   "cell_type": "code",
   "execution_count": 54,
   "metadata": {},
   "outputs": [],
   "source": [
    "class Bank :\n",
    "    def __init__(self, accountNo = '', accountName = '', accountBalance = 0) :\n",
    "        self.accountNo = accountNo\n",
    "        self.accountName = accountName\n",
    "        self.accountBalance = accountBalance\n",
    "        \n",
    "    def getAccountBalance(self) :\n",
    "        return self.accountBalance\n",
    "    \n",
    "    def depositMoney(self, other) :\n",
    "        self.accountBalance = self.accountBalance + other\n",
    "        return self.accountBalance\n",
    "       \n",
    "    def takeoutMoney(self, other) :\n",
    "        self.accountBalance = self.accountBalance - other\n",
    "        return self.accountBalance    "
   ]
  },
  {
   "cell_type": "markdown",
   "metadata": {},
   "source": [
    "## 6.請按照此程式(點選連結)，畫出此程式的class diagram圖(20%)"
   ]
  },
  {
   "cell_type": "code",
   "execution_count": 23,
   "metadata": {},
   "outputs": [],
   "source": [
    "class Circle :\n",
    "    PI = 3.14\n",
    "    def __init__(self, r = 1) :\n",
    "        self.radius = r\n",
    "    def getRadius(self) :\n",
    "        return self.radius\n",
    "    def getArea(self) :\n",
    "        return self.PI * self.radius * self.radius\n",
    "    def getPerimeter(self) :\n",
    "        return self.PI * self.radius * 2"
   ]
  }
 ],
 "metadata": {
  "kernelspec": {
   "display_name": "Python 3",
   "language": "python",
   "name": "python3"
  },
  "language_info": {
   "codemirror_mode": {
    "name": "ipython",
    "version": 3
   },
   "file_extension": ".py",
   "mimetype": "text/x-python",
   "name": "python",
   "nbconvert_exporter": "python",
   "pygments_lexer": "ipython3",
   "version": "3.8.3"
  }
 },
 "nbformat": 4,
 "nbformat_minor": 4
}
