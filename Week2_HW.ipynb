{
 "cells": [
  {
   "cell_type": "markdown",
   "metadata": {},
   "source": [
    "# Week2 Homework\n",
    "## 第一題\n",
    "### 有一個很大的數12...91011...99100101...99910001001...201920202021(最前面幾位數是123456789，接著則是11一直到20，這樣一直累加到2021)，請問如何用for loop, str, int來產生此數，並計算此數除以11的餘數。"
   ]
  },
  {
   "cell_type": "code",
   "execution_count": 1,
   "metadata": {},
   "outputs": [
    {
     "name": "stdout",
     "output_type": "stream",
     "text": [
      "5\n"
     ]
    }
   ],
   "source": [
    "a = '1'\n",
    "for i in range (2,2022) :\n",
    "    a = a + str(i)\n",
    "ans = int(a)%11\n",
    "print(ans)"
   ]
  },
  {
   "cell_type": "markdown",
   "metadata": {},
   "source": [
    "## 第二題\n",
    "### 如何利用題目1的規則，一直到哪一個數才能讓整個大數目超過1000個位數?這個大數目有一千零幾個位數?"
   ]
  },
  {
   "cell_type": "code",
   "execution_count": 2,
   "metadata": {},
   "outputs": [
    {
     "name": "stdout",
     "output_type": "stream",
     "text": [
      "370 1002\n"
     ]
    }
   ],
   "source": [
    "a = ''\n",
    "i = 0\n",
    "while len(a) < 1000 :\n",
    "    i = i + 1\n",
    "    a = a + str(i)\n",
    "ans1 = i\n",
    "ans2 = len(a)\n",
    "print(ans1,ans2)"
   ]
  },
  {
   "cell_type": "code",
   "execution_count": null,
   "metadata": {},
   "outputs": [],
   "source": []
  }
 ],
 "metadata": {
  "kernelspec": {
   "display_name": "Python 3",
   "language": "python",
   "name": "python3"
  },
  "language_info": {
   "codemirror_mode": {
    "name": "ipython",
    "version": 3
   },
   "file_extension": ".py",
   "mimetype": "text/x-python",
   "name": "python",
   "nbconvert_exporter": "python",
   "pygments_lexer": "ipython3",
   "version": "3.8.3"
  }
 },
 "nbformat": 4,
 "nbformat_minor": 4
}
