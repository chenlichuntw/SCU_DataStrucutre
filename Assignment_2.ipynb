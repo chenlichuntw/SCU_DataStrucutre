{
 "cells": [
  {
   "cell_type": "markdown",
   "metadata": {},
   "source": [
    "# 作業二"
   ]
  },
  {
   "cell_type": "markdown",
   "metadata": {},
   "source": [
    "## 1.dictionary:以下程式執行完畢後，會列印出何值？(20%)"
   ]
  },
  {
   "cell_type": "code",
   "execution_count": 2,
   "metadata": {},
   "outputs": [
    {
     "name": "stdout",
     "output_type": "stream",
     "text": [
      "False\n"
     ]
    }
   ],
   "source": [
    "d = {'a':'apple','b':'banana','c':'car'}\n",
    "print('e' in d)"
   ]
  },
  {
   "cell_type": "code",
   "execution_count": 3,
   "metadata": {},
   "outputs": [
    {
     "name": "stdout",
     "output_type": "stream",
     "text": [
      "{'a': 'apple', 'b': 'banana'}\n"
     ]
    }
   ],
   "source": [
    "d = {'a':'apple','b':'banana','c':'car'}\n",
    "del(d['c'])\n",
    "print(d)"
   ]
  },
  {
   "cell_type": "code",
   "execution_count": 4,
   "metadata": {},
   "outputs": [
    {
     "name": "stdout",
     "output_type": "stream",
     "text": [
      "{'a': 'apple', 'b': 'banana', 'c': 'car', 1: 'Monday'}\n"
     ]
    }
   ],
   "source": [
    "d = {'a':'apple','b':'banana','c':'car'}\n",
    "d[1] = 'Monday'\n",
    "print(d)"
   ]
  },
  {
   "cell_type": "code",
   "execution_count": 5,
   "metadata": {},
   "outputs": [
    {
     "name": "stdout",
     "output_type": "stream",
     "text": [
      "{'a': 'apple', 'b': 'bird', 'c': 'car'}\n"
     ]
    }
   ],
   "source": [
    "d = {'a':'apple','b':'banana','c':'car'}\n",
    "d['b'] = 'bird'\n",
    "print(d)"
   ]
  },
  {
   "cell_type": "markdown",
   "metadata": {},
   "source": [
    "## 2.請說明set和dictionary兩者間的差別(10%)"
   ]
  },
  {
   "cell_type": "markdown",
   "metadata": {},
   "source": [
    "set : 可以做相互運算，聯集、交集、不相交等。\n",
    "dictionary : 有key與value，呼叫key會出現相應的value。"
   ]
  },
  {
   "cell_type": "markdown",
   "metadata": {},
   "source": [
    "## 3.file讀取：請說明讀檔方法中，read( ),readline( ),readlines( )三者間的差別(20%)"
   ]
  },
  {
   "cell_type": "markdown",
   "metadata": {},
   "source": [
    "read():將整個檔案資料從頭到尾轉換成單一的string資料型態。\n",
    "readline():只會讀取檔案中的一行，從開始到'\\n'(包括'\\n')轉換為string資料型態。\n",
    "readlines():讀取整個檔案，產生一個list裡面包含以'\\n'為區分的每一行資料，而每一行資料皆為string資料型態。"
   ]
  },
  {
   "cell_type": "markdown",
   "metadata": {},
   "source": [
    "## 4.set:以下程式執行完後，執行結果為何？(20%)"
   ]
  },
  {
   "cell_type": "code",
   "execution_count": 7,
   "metadata": {},
   "outputs": [
    {
     "name": "stdout",
     "output_type": "stream",
     "text": [
      "{1, 2, 3, 4, 5}\n"
     ]
    }
   ],
   "source": [
    "s = set([1,3,5,4,2,5,2,3,1])\n",
    "print(s)"
   ]
  },
  {
   "cell_type": "code",
   "execution_count": 8,
   "metadata": {},
   "outputs": [
    {
     "name": "stdout",
     "output_type": "stream",
     "text": [
      "{1, 2, 3, 4, 5, 6, 7, 8, 9, 10, 12}\n"
     ]
    }
   ],
   "source": [
    "s = set([1,3,5,4,2,5,2])\n",
    "s1 = set([7,8,5,1,3,6,9,10,12])\n",
    "s.update(s1)\n",
    "print(s)"
   ]
  },
  {
   "cell_type": "code",
   "execution_count": 1,
   "metadata": {},
   "outputs": [
    {
     "name": "stdout",
     "output_type": "stream",
     "text": [
      "{1, 2, 4, 5}\n"
     ]
    }
   ],
   "source": [
    "s = set([1,3,5,4,2,5,2])\n",
    "s.discard(3)\n",
    "print(s)"
   ]
  },
  {
   "cell_type": "code",
   "execution_count": 2,
   "metadata": {},
   "outputs": [
    {
     "name": "stdout",
     "output_type": "stream",
     "text": [
      "{1, 3, 5}\n"
     ]
    }
   ],
   "source": [
    "s = set([1,3,5,4,2,5,2])\n",
    "s1=set([7,8,5,1,3,6,9])\n",
    "print(s&s1)"
   ]
  },
  {
   "cell_type": "code",
   "execution_count": 3,
   "metadata": {},
   "outputs": [
    {
     "name": "stdout",
     "output_type": "stream",
     "text": [
      "{2, 4}\n"
     ]
    }
   ],
   "source": [
    "s = set([1,3,5,4,2,5,2])\n",
    "s1=set([7,8,5,1,3,6,9])\n",
    "print(s. difference(s1))"
   ]
  },
  {
   "cell_type": "markdown",
   "metadata": {},
   "source": [
    "## 5.file io: 請讀取檔案(如連結)，讀取該文字檔裡字母p跟y分別出現幾次(不分大小寫都要計算，ex:Python project之中p的出現次數是2)，並將你的程式碼與執行結果貼在下方 (30%)"
   ]
  },
  {
   "cell_type": "code",
   "execution_count": 29,
   "metadata": {},
   "outputs": [
    {
     "name": "stdout",
     "output_type": "stream",
     "text": [
      "p有257次\n",
      "y有212次\n"
     ]
    }
   ],
   "source": [
    "import string\n",
    "file_string = open('2021article.txt','r').read()\n",
    "\n",
    "total = {}\n",
    "for ch in file_string.lower() :\n",
    "    if ch in total :\n",
    "        total[ch] += 1\n",
    "    else :\n",
    "        total[ch] = 1\n",
    "p,y = total['p'],total['y']        \n",
    "print('p有',p,'次','\\n','y有',y,'次',sep = '')"
   ]
  }
 ],
 "metadata": {
  "kernelspec": {
   "display_name": "Python 3",
   "language": "python",
   "name": "python3"
  },
  "language_info": {
   "codemirror_mode": {
    "name": "ipython",
    "version": 3
   },
   "file_extension": ".py",
   "mimetype": "text/x-python",
   "name": "python",
   "nbconvert_exporter": "python",
   "pygments_lexer": "ipython3",
   "version": "3.8.3"
  }
 },
 "nbformat": 4,
 "nbformat_minor": 4
}
