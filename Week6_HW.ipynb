{
 "cells": [
  {
   "cell_type": "markdown",
   "metadata": {},
   "source": [
    "# Dictionary Homework\n",
    "如何統計一個字串中，符號發生的狀況。  \n",
    "假設這個字串是:\n",
    " \"Our Father in heaven, hallowed be your name,\n",
    " your kingdom come,\n",
    " your will be done on earth as it is in heaven.\n",
    " Give us today our daily bread.\n",
    "Forgive us our debts,\n",
    "as we also have forgiven our debtors. And lead us not into temptation,\n",
    "but deliver us from the evil one. “\n",
    "## 1. 統計所有的符號，包括逗點、句點、a-z、A-Z. "
   ]
  },
  {
   "cell_type": "code",
   "execution_count": 30,
   "metadata": {},
   "outputs": [
    {
     "name": "stdout",
     "output_type": "stream",
     "text": [
      ", 有  5 次\n",
      ". 有  4 次\n",
      "A 有  1 次\n",
      "F 有  2 次\n",
      "G 有  1 次\n",
      "O 有  1 次\n",
      "a 有 15 次\n",
      "b 有  6 次\n",
      "c 有  1 次\n",
      "d 有 11 次\n",
      "e 有 27 次\n",
      "f 有  2 次\n",
      "g 有  3 次\n",
      "h 有  7 次\n",
      "i 有 14 次\n",
      "k 有  1 次\n",
      "l 有  9 次\n",
      "m 有  5 次\n",
      "n 有 14 次\n",
      "o 有 21 次\n",
      "p 有  1 次\n",
      "r 有 15 次\n",
      "s 有 10 次\n",
      "t 有 13 次\n",
      "u 有 12 次\n",
      "v 有  8 次\n",
      "w 有  3 次\n",
      "y 有  5 次\n"
     ]
    }
   ],
   "source": [
    "import string\n",
    "import operator\n",
    "\n",
    "string_a = \"Our Father in heaven, hallowed be your name, your kingdom come, your will be done on earth as it is in heaven. Give us today our daily bread. Forgive us our debts, as we also have forgiven our debtors. And lead us not into temptation, but deliver us from the evil one.\"\n",
    "\n",
    "def character_counting(s) :\n",
    "    counting = {}\n",
    "    for ch in s :\n",
    "        if ch in counting :\n",
    "            counting[ch] += 1\n",
    "        else :\n",
    "            counting[ch] = 1\n",
    "    return counting\n",
    "\n",
    "def sort_counting(s) :\n",
    "    sort_counting = sorted(character_counting(s).items(), key = operator.itemgetter(0))\n",
    "    return sort_counting\n",
    "\n",
    "def main_1() :\n",
    "    a = sort_counting(string_a)\n",
    "    for i in range(1,len(a)) :    #從1開始計算以排除空格\n",
    "        print('{:} {:} {:2d} {:}'.format(a[i][0],'有',a[i][1],'次'))\n",
    "    \n",
    "main_1()"
   ]
  },
  {
   "cell_type": "markdown",
   "metadata": {},
   "source": [
    "## 2. 只統計英文字母，大小寫是屬於相同的符號。"
   ]
  },
  {
   "cell_type": "code",
   "execution_count": 31,
   "metadata": {},
   "outputs": [
    {
     "name": "stdout",
     "output_type": "stream",
     "text": [
      "A 有 16 次\n",
      "B 有  6 次\n",
      "C 有  1 次\n",
      "D 有 11 次\n",
      "E 有 27 次\n",
      "F 有  4 次\n",
      "G 有  4 次\n",
      "H 有  7 次\n",
      "I 有 14 次\n",
      "J 有  0 次\n",
      "K 有  1 次\n",
      "L 有  9 次\n",
      "M 有  5 次\n",
      "N 有 14 次\n",
      "O 有 22 次\n",
      "P 有  1 次\n",
      "Q 有  0 次\n",
      "R 有 15 次\n",
      "S 有 10 次\n",
      "T 有 13 次\n",
      "U 有 12 次\n",
      "V 有  8 次\n",
      "W 有  3 次\n",
      "X 有  0 次\n",
      "Y 有  5 次\n",
      "Z 有  0 次\n"
     ]
    }
   ],
   "source": [
    "import string\n",
    "import operator\n",
    "\n",
    "string_a = \"Our Father in heaven, hallowed be your name, your kingdom come, your will be done on earth as it is in heaven. Give us today our daily bread. Forgive us our debts, as we also have forgiven our debtors. And lead us not into temptation, but deliver us from the evil one.\"\n",
    "\n",
    "\n",
    "def alphabet_table (s) :\n",
    "    a_t = {}\n",
    "    for ch in string.ascii_uppercase :\n",
    "        a_t[ch] = 0 \n",
    "    for ch in s.upper() :\n",
    "        if ch in a_t :\n",
    "            a_t[ch] += 1\n",
    "    return a_t\n",
    "\n",
    "def main_2() :\n",
    "    a = alphabet_table(string_a)\n",
    "    for k,v in a.items():\n",
    "        print('{:} {:} {:2d} {:}'.format(k,'有',v,'次'))\n",
    "main_2()"
   ]
  },
  {
   "cell_type": "code",
   "execution_count": null,
   "metadata": {},
   "outputs": [],
   "source": []
  }
 ],
 "metadata": {
  "kernelspec": {
   "display_name": "Python 3",
   "language": "python",
   "name": "python3"
  },
  "language_info": {
   "codemirror_mode": {
    "name": "ipython",
    "version": 3
   },
   "file_extension": ".py",
   "mimetype": "text/x-python",
   "name": "python",
   "nbconvert_exporter": "python",
   "pygments_lexer": "ipython3",
   "version": "3.8.3"
  }
 },
 "nbformat": 4,
 "nbformat_minor": 4
}
